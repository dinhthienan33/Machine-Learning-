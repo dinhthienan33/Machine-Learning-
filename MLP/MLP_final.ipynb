{
  "cells": [
    {
      "cell_type": "code",
      "execution_count": 1,
      "metadata": {
        "id": "_ITGRoLJe8eh"
      },
      "outputs": [],
      "source": [
        "import numpy as np\n",
        "import pandas as pd\n",
        "import tensorflow as tf\n",
        "import matplotlib.pyplot as plt\n",
        "from tensorflow.keras.models import Sequential\n",
        "from tensorflow.keras.layers import Dense\n",
        "import matplotlib.pyplot as plt"
      ]
    },
    {
      "cell_type": "code",
      "execution_count": 2,
      "metadata": {
        "id": "8v5aH3dje8es"
      },
      "outputs": [],
      "source": [
        "#Load data\n",
        "data=pd.read_csv('/HD.csv')\n",
        "\n",
        "# Separating the training set and test set\n",
        "from sklearn.model_selection import train_test_split\n",
        "\n",
        "X = data.drop('Heart Disease',axis=1)\n",
        "y = data['Heart Disease']\n",
        "X_train, X_test, y_train, y_test = train_test_split(X, y, test_size=0.30, random_state=101)"
      ]
    },
    {
      "cell_type": "code",
      "source": [
        "# Normalization\n",
        "norm_l = tf.keras.layers.Normalization(axis=-1)\n",
        "norm_l.adapt(X_train)  # learns mean, variance # learns mean, variance\n",
        "Xn_train = norm_l(X_train)\n",
        "Xn_test = norm_l(X_test)"
      ],
      "metadata": {
        "id": "TdIms8i1iv_c"
      },
      "execution_count": 3,
      "outputs": []
    },
    {
      "cell_type": "code",
      "source": [
        "Xn_train.shape"
      ],
      "metadata": {
        "colab": {
          "base_uri": "https://localhost:8080/"
        },
        "id": "zKR98Wq0kMo8",
        "outputId": "afef5b7c-94c6-4d65-f3e1-724d36558bcc"
      },
      "execution_count": 4,
      "outputs": [
        {
          "output_type": "execute_result",
          "data": {
            "text/plain": [
              "TensorShape([189, 13])"
            ]
          },
          "metadata": {},
          "execution_count": 4
        }
      ]
    },
    {
      "cell_type": "code",
      "source": [
        "y_train1=y_train[:,np.newaxis]"
      ],
      "metadata": {
        "colab": {
          "base_uri": "https://localhost:8080/"
        },
        "id": "hsJt8wDMm0mc",
        "outputId": "3ff3a29a-6365-48f2-f053-8cac5a003fa8"
      },
      "execution_count": 5,
      "outputs": [
        {
          "output_type": "stream",
          "name": "stderr",
          "text": [
            "<ipython-input-5-f9f65187dd66>:1: FutureWarning: Support for multi-dimensional indexing (e.g. `obj[:, None]`) is deprecated and will be removed in a future version.  Convert to a numpy array before indexing instead.\n",
            "  y_train1=y_train[:,np.newaxis]\n"
          ]
        }
      ]
    },
    {
      "cell_type": "code",
      "source": [],
      "metadata": {
        "id": "jEulySc_rEHz"
      },
      "execution_count": 5,
      "outputs": []
    },
    {
      "cell_type": "code",
      "source": [
        "Xt = np.tile(Xn_train,(1000,1))\n",
        "Yt= np.tile(y_train1,(1000,1))\n",
        "print(Xt.shape, Yt.shape)"
      ],
      "metadata": {
        "colab": {
          "base_uri": "https://localhost:8080/"
        },
        "id": "aeg1DHwYkYKC",
        "outputId": "2ccfd294-0d0c-4ccb-995b-e49e78bf1861"
      },
      "execution_count": 6,
      "outputs": [
        {
          "output_type": "stream",
          "name": "stdout",
          "text": [
            "(189000, 13) (189000, 1)\n"
          ]
        }
      ]
    },
    {
      "cell_type": "code",
      "source": [
        "y_train1.shape"
      ],
      "metadata": {
        "colab": {
          "base_uri": "https://localhost:8080/"
        },
        "id": "Do0Dhvn0qSjT",
        "outputId": "c1746e7b-694f-4c96-8f15-29321e4256f6"
      },
      "execution_count": 7,
      "outputs": [
        {
          "output_type": "execute_result",
          "data": {
            "text/plain": [
              "(189, 1)"
            ]
          },
          "metadata": {},
          "execution_count": 7
        }
      ]
    },
    {
      "cell_type": "code",
      "source": [
        "model = tf.keras.models.Sequential(\n",
        "    [\n",
        "        tf.keras.Input(shape=(13,)),    # specify input size (optional)\n",
        "        Dense(8, activation='linear'),\n",
        "        #Dense(8, activation='sigmoid'),\n",
        "        Dense(4, activation='linear'),\n",
        "        Dense(1,activation='sigmoid')\n",
        "    ]\n",
        ")"
      ],
      "metadata": {
        "id": "7fkB_v99gYMy"
      },
      "execution_count": 8,
      "outputs": []
    },
    {
      "cell_type": "code",
      "source": [
        "model.summary()"
      ],
      "metadata": {
        "colab": {
          "base_uri": "https://localhost:8080/"
        },
        "id": "jgg361F8gZ9q",
        "outputId": "ace4d6e2-ed77-41e7-a231-23030b239b67"
      },
      "execution_count": 9,
      "outputs": [
        {
          "output_type": "stream",
          "name": "stdout",
          "text": [
            "Model: \"sequential\"\n",
            "_________________________________________________________________\n",
            " Layer (type)                Output Shape              Param #   \n",
            "=================================================================\n",
            " dense (Dense)               (None, 8)                 112       \n",
            "                                                                 \n",
            " dense_1 (Dense)             (None, 4)                 36        \n",
            "                                                                 \n",
            " dense_2 (Dense)             (None, 1)                 5         \n",
            "                                                                 \n",
            "=================================================================\n",
            "Total params: 153 (612.00 Byte)\n",
            "Trainable params: 153 (612.00 Byte)\n",
            "Non-trainable params: 0 (0.00 Byte)\n",
            "_________________________________________________________________\n"
          ]
        }
      ]
    },
    {
      "cell_type": "code",
      "source": [],
      "metadata": {
        "id": "EgCY7Y7wkgM9"
      },
      "execution_count": 9,
      "outputs": []
    },
    {
      "cell_type": "code",
      "source": [
        "[layer1, layer2, layer3] = model.layers"
      ],
      "metadata": {
        "id": "lFcH-aW6h17n"
      },
      "execution_count": 10,
      "outputs": []
    },
    {
      "cell_type": "code",
      "source": [
        "#### Examine Weights shapes\n",
        "W1,b1 = layer1.get_weights()\n",
        "W2,b2 = layer2.get_weights()\n",
        "W3,b3 = layer3.get_weights()\n",
        "#W4,b4 = layer4.get_weights()\n",
        "print(f\"W1 shape = {W1.shape}, b1 shape = {b1.shape}\")\n",
        "print(f\"W2 shape = {W2.shape}, b2 shape = {b2.shape}\")\n",
        "print(f\"W3 shape = {W3.shape}, b3 shape = {b3.shape}\")\n",
        "#print(f\"W4 shape = {W4.shape}, b4 shape = {b4.shape}\")"
      ],
      "metadata": {
        "id": "1be2kY8diEHn",
        "colab": {
          "base_uri": "https://localhost:8080/"
        },
        "outputId": "81545235-ff78-4196-ff08-1af582e6fb9e"
      },
      "execution_count": 11,
      "outputs": [
        {
          "output_type": "stream",
          "name": "stdout",
          "text": [
            "W1 shape = (13, 8), b1 shape = (8,)\n",
            "W2 shape = (8, 4), b2 shape = (4,)\n",
            "W3 shape = (4, 1), b3 shape = (1,)\n"
          ]
        }
      ]
    },
    {
      "cell_type": "code",
      "source": [
        "model.compile(\n",
        "    loss = tf.keras.losses.BinaryCrossentropy(),\n",
        "    optimizer = tf.keras.optimizers.Adam(learning_rate=0.01),\n",
        "    metrics=['accuracy']\n",
        ")\n",
        "\n"
      ],
      "metadata": {
        "id": "JwPcJ1vPiNTs"
      },
      "execution_count": 12,
      "outputs": []
    },
    {
      "cell_type": "code",
      "source": [
        "model.fit(\n",
        "    Xt,Yt,\n",
        "    epochs=10,\n",
        ")"
      ],
      "metadata": {
        "colab": {
          "base_uri": "https://localhost:8080/"
        },
        "id": "cSj8GYsbqtFB",
        "outputId": "639c96a9-b12e-46b0-cc08-b99c3dd51803"
      },
      "execution_count": 13,
      "outputs": [
        {
          "output_type": "stream",
          "name": "stdout",
          "text": [
            "Epoch 1/10\n",
            "5907/5907 [==============================] - 11s 2ms/step - loss: 0.3130 - accuracy: 0.8651\n",
            "Epoch 2/10\n",
            "5907/5907 [==============================] - 10s 2ms/step - loss: 0.3108 - accuracy: 0.8642\n",
            "Epoch 3/10\n",
            "5907/5907 [==============================] - 7s 1ms/step - loss: 0.3103 - accuracy: 0.8645\n",
            "Epoch 4/10\n",
            "5907/5907 [==============================] - 7s 1ms/step - loss: 0.3102 - accuracy: 0.8629\n",
            "Epoch 5/10\n",
            "5907/5907 [==============================] - 7s 1ms/step - loss: 0.3100 - accuracy: 0.8634\n",
            "Epoch 6/10\n",
            "5907/5907 [==============================] - 7s 1ms/step - loss: 0.3100 - accuracy: 0.8643\n",
            "Epoch 7/10\n",
            "5907/5907 [==============================] - 7s 1ms/step - loss: 0.3100 - accuracy: 0.8629\n",
            "Epoch 8/10\n",
            "5907/5907 [==============================] - 6s 1ms/step - loss: 0.3100 - accuracy: 0.8627\n",
            "Epoch 9/10\n",
            "5907/5907 [==============================] - 7s 1ms/step - loss: 0.3101 - accuracy: 0.8620\n",
            "Epoch 10/10\n",
            "5907/5907 [==============================] - 7s 1ms/step - loss: 0.3098 - accuracy: 0.8633\n"
          ]
        },
        {
          "output_type": "execute_result",
          "data": {
            "text/plain": [
              "<keras.src.callbacks.History at 0x7f4450c54940>"
            ]
          },
          "metadata": {},
          "execution_count": 13
        }
      ]
    },
    {
      "cell_type": "code",
      "source": [
        "W1, b1 = model.get_layer(\"dense\").get_weights()\n",
        "W2, b2 = model.get_layer(\"dense_1\").get_weights()\n",
        "W3, b3 = model.get_layer(\"dense_2\").get_weights()\n",
        "#W4, b4 = model.get_layer(\"dense_3\").get_weights()\n",
        "print(\"W1:\\n\", W1, \"\\nb1:\", b1)\n",
        "print(\"W2:\\n\", W2, \"\\nb2:\", b2)\n",
        "print(\"W3:\\n\", W3, \"\\nb3:\", b3)\n",
        "#print(\"W4:\\n\", W4, \"\\nb4:\", b4)"
      ],
      "metadata": {
        "id": "i84K72hFkxfD",
        "colab": {
          "base_uri": "https://localhost:8080/"
        },
        "outputId": "f41a8eea-74a3-4a65-a2f9-af8ea68d42de"
      },
      "execution_count": 14,
      "outputs": [
        {
          "output_type": "stream",
          "name": "stdout",
          "text": [
            "W1:\n",
            " [[ 1.22791201e-01 -1.15616821e-01 -1.07290022e-01  4.81712669e-01\n",
            "  -1.57024801e-01  4.51868214e-02  9.09499358e-04 -2.23984700e-02]\n",
            " [ 1.11237362e-01 -3.29512179e-01 -2.02296615e-01 -2.43122673e+00\n",
            "   2.15333834e-01 -2.79387027e-01 -2.10517824e-01 -2.68527776e-01]\n",
            " [-7.13112354e-02  1.12203278e-01 -1.87567711e-01 -2.36795020e+00\n",
            "   8.03626105e-02  2.46010572e-02 -3.92497666e-02 -1.12232082e-01]\n",
            " [-2.43668735e-01 -2.53490090e-01  6.60894886e-02 -2.49817300e+00\n",
            "  -5.11742830e-02 -1.61282897e-01 -7.26155266e-02 -7.12543493e-03]\n",
            " [-9.35353991e-03  1.56083688e-01  3.15920785e-02 -1.01168215e+00\n",
            "   2.66083665e-02  3.53680737e-02  1.22702919e-01 -1.24637790e-01]\n",
            " [-7.25005418e-02  2.11089820e-01  1.51997700e-01  1.33106887e+00\n",
            "  -6.47428259e-02  2.22778395e-01 -5.91812506e-02 -3.13237995e-01]\n",
            " [ 1.01067320e-01 -1.32260785e-01  2.56445199e-01 -1.28383577e+00\n",
            "  -4.30809781e-02  1.15009554e-01 -1.42830104e-01  3.99090722e-02]\n",
            " [ 2.42950231e-01  2.16956660e-01 -2.14471117e-01  1.84725249e+00\n",
            "   9.41244587e-02 -1.09783495e-02 -1.66324362e-01  1.12703003e-01]\n",
            " [ 2.39602506e-01  3.38206381e-01  1.89063877e-01 -1.37135458e+00\n",
            "   3.44876796e-01  2.03027606e-01 -2.27652684e-01 -3.76514733e-01]\n",
            " [-4.45790529e-01  2.39582062e-02 -1.94970652e-01 -2.10899138e+00\n",
            "  -4.39199843e-02 -3.60118419e-01  4.29503292e-01  6.76357076e-02]\n",
            " [ 9.31753591e-02 -3.29126045e-02 -1.49926782e-01  2.25930318e-01\n",
            "  -2.30035052e-01 -4.57766429e-02 -1.52439281e-01  3.89337800e-02]\n",
            " [-1.42390653e-01  1.11092322e-01  8.47759470e-02 -2.77931786e+00\n",
            "   1.63044572e-01  1.41855050e-02 -1.22641727e-01  2.23938942e-01]\n",
            " [ 1.31083280e-01  1.27430797e-01  1.25871170e-02 -2.65631771e+00\n",
            "  -1.17247589e-01  4.91823535e-04  2.01514006e-01  4.00574148e-01]] \n",
            "b1: [-0.12366974  0.04509757 -0.01676165 -0.29458272  0.11571822  0.11012372\n",
            " -0.13528964 -0.30714992]\n",
            "W2:\n",
            " [[ 0.13400455 -0.01096698 -0.19079745  0.0388973 ]\n",
            " [ 0.01880192  0.05918809  0.10010424 -0.06904837]\n",
            " [ 0.08753869 -0.00388807  0.12507421  0.01845367]\n",
            " [-0.00262221  0.8370122   0.01579654  0.01270088]\n",
            " [ 0.1423404   0.07528096 -0.07668339  0.01182881]\n",
            " [ 0.08509986  0.0294278   0.11714609 -0.07312048]\n",
            " [-0.14489198 -0.04308544 -0.03376311  0.01565715]\n",
            " [ 0.11791459 -0.02833198 -0.08944657 -0.04154935]] \n",
            "b2: [ 0.04309043 -0.05224282 -0.16888405  0.0202839 ]\n",
            "W3:\n",
            " [[-0.00515548]\n",
            " [-0.37995943]\n",
            " [-0.010703  ]\n",
            " [-0.01466658]] \n",
            "b3: [-0.39528933]\n"
          ]
        }
      ]
    },
    {
      "cell_type": "code",
      "source": [
        "predictions = model.predict(Xn_test)\n",
        "print(\"predictions = \\n\", predictions)"
      ],
      "metadata": {
        "colab": {
          "base_uri": "https://localhost:8080/"
        },
        "id": "WXkXOqaukp7k",
        "outputId": "bf2299e6-c946-410c-af4a-4b45d2c16bce"
      },
      "execution_count": 15,
      "outputs": [
        {
          "output_type": "stream",
          "name": "stdout",
          "text": [
            "3/3 [==============================] - 0s 3ms/step\n",
            "predictions = \n",
            " [[0.08507314]\n",
            " [0.50735825]\n",
            " [0.57058996]\n",
            " [0.10421134]\n",
            " [0.69213206]\n",
            " [0.48740438]\n",
            " [0.96564674]\n",
            " [0.03317716]\n",
            " [0.15774941]\n",
            " [0.5062563 ]\n",
            " [0.582735  ]\n",
            " [0.29137218]\n",
            " [0.10313156]\n",
            " [0.878701  ]\n",
            " [0.03674812]\n",
            " [0.9956887 ]\n",
            " [0.42747065]\n",
            " [0.9642439 ]\n",
            " [0.02028359]\n",
            " [0.8306916 ]\n",
            " [0.2306711 ]\n",
            " [0.96724325]\n",
            " [0.87108487]\n",
            " [0.05175461]\n",
            " [0.02348582]\n",
            " [0.84679186]\n",
            " [0.01210277]\n",
            " [0.10370755]\n",
            " [0.96297693]\n",
            " [0.11113969]\n",
            " [0.00570288]\n",
            " [0.9920175 ]\n",
            " [0.05087341]\n",
            " [0.9620804 ]\n",
            " [0.53260636]\n",
            " [0.03103052]\n",
            " [0.02708602]\n",
            " [0.01113757]\n",
            " [0.9978184 ]\n",
            " [0.51384914]\n",
            " [0.99864495]\n",
            " [0.59724593]\n",
            " [0.04670899]\n",
            " [0.9032116 ]\n",
            " [0.02501437]\n",
            " [0.98763657]\n",
            " [0.6761641 ]\n",
            " [0.12166962]\n",
            " [0.05195672]\n",
            " [0.99958813]\n",
            " [0.99467254]\n",
            " [0.00848676]\n",
            " [0.98770416]\n",
            " [0.877729  ]\n",
            " [0.16607665]\n",
            " [0.05773962]\n",
            " [0.04297833]\n",
            " [0.9310989 ]\n",
            " [0.08843779]\n",
            " [0.2308521 ]\n",
            " [0.10233359]\n",
            " [0.9794578 ]\n",
            " [0.15749176]\n",
            " [0.37663782]\n",
            " [0.88234836]\n",
            " [0.30628496]\n",
            " [0.9894935 ]\n",
            " [0.13575546]\n",
            " [0.98947257]\n",
            " [0.978521  ]\n",
            " [0.340532  ]\n",
            " [0.0452927 ]\n",
            " [0.49426562]\n",
            " [0.35250908]\n",
            " [0.36854994]\n",
            " [0.21332037]\n",
            " [0.12935537]\n",
            " [0.72756785]\n",
            " [0.03658368]\n",
            " [0.25638747]\n",
            " [0.3443012 ]]\n"
          ]
        }
      ]
    },
    {
      "cell_type": "code",
      "source": [
        "X_test"
      ],
      "metadata": {
        "id": "SzfxHOgUSqRi",
        "colab": {
          "base_uri": "https://localhost:8080/",
          "height": 423
        },
        "outputId": "a7bbe90d-87a6-438d-ca2c-7654a0fa30de"
      },
      "execution_count": 16,
      "outputs": [
        {
          "output_type": "execute_result",
          "data": {
            "text/plain": [
              "      Age  Sex  Chest pain type     BP  Cholesterol  FBS over 120  \\\n",
              "239  48.0  1.0              2.0  110.0   229.000000           0.0   \n",
              "32   60.0  1.0              3.0  140.0   185.000000           0.0   \n",
              "212  66.0  1.0              4.0  112.0   212.000000           0.0   \n",
              "13   64.0  1.0              1.0  110.0   251.155102           0.0   \n",
              "253  56.0  1.0              3.0  130.0   256.000000           1.0   \n",
              "..    ...  ...              ...    ...          ...           ...   \n",
              "262  43.0  1.0              4.0  115.0   303.000000           0.0   \n",
              "104  57.0  1.0              3.0  128.0   229.000000           0.0   \n",
              "181  55.0  0.0              2.0  135.0   251.155102           0.0   \n",
              "25   37.0  1.0              3.0  130.0   251.155102           0.0   \n",
              "150  51.0  1.0              3.0   94.0   227.000000           0.0   \n",
              "\n",
              "     EKG results  Max HR  Exercise angina  ST depression  Slope of ST  \\\n",
              "239          0.0   168.0              0.0            1.0          3.0   \n",
              "32           2.0   155.0              0.0            3.0          2.0   \n",
              "212          2.0   132.0              1.0            0.1          1.0   \n",
              "13           2.0   144.0              1.0            1.8          2.0   \n",
              "253          2.0   142.0              1.0            0.6          2.0   \n",
              "..           ...     ...              ...            ...          ...   \n",
              "262          0.0   181.0              0.0            1.2          2.0   \n",
              "104          2.0   150.0              0.0            0.4          2.0   \n",
              "181          2.0   161.0              0.0            1.4          2.0   \n",
              "25           0.0   187.0              0.0            3.5          3.0   \n",
              "150          0.0   154.0              1.0            0.0          1.0   \n",
              "\n",
              "     Number of vessels fluro  Thallium  \n",
              "239                      0.0       7.0  \n",
              "32                       0.0       3.0  \n",
              "212                      1.0       3.0  \n",
              "13                       0.0       3.0  \n",
              "253                      1.0       6.0  \n",
              "..                       ...       ...  \n",
              "262                      0.0       3.0  \n",
              "104                      1.0       7.0  \n",
              "181                      0.0       3.0  \n",
              "25                       0.0       3.0  \n",
              "150                      1.0       7.0  \n",
              "\n",
              "[81 rows x 13 columns]"
            ],
            "text/html": [
              "\n",
              "  <div id=\"df-4f968aa2-9c32-4a76-b52a-79507176de1c\" class=\"colab-df-container\">\n",
              "    <div>\n",
              "<style scoped>\n",
              "    .dataframe tbody tr th:only-of-type {\n",
              "        vertical-align: middle;\n",
              "    }\n",
              "\n",
              "    .dataframe tbody tr th {\n",
              "        vertical-align: top;\n",
              "    }\n",
              "\n",
              "    .dataframe thead th {\n",
              "        text-align: right;\n",
              "    }\n",
              "</style>\n",
              "<table border=\"1\" class=\"dataframe\">\n",
              "  <thead>\n",
              "    <tr style=\"text-align: right;\">\n",
              "      <th></th>\n",
              "      <th>Age</th>\n",
              "      <th>Sex</th>\n",
              "      <th>Chest pain type</th>\n",
              "      <th>BP</th>\n",
              "      <th>Cholesterol</th>\n",
              "      <th>FBS over 120</th>\n",
              "      <th>EKG results</th>\n",
              "      <th>Max HR</th>\n",
              "      <th>Exercise angina</th>\n",
              "      <th>ST depression</th>\n",
              "      <th>Slope of ST</th>\n",
              "      <th>Number of vessels fluro</th>\n",
              "      <th>Thallium</th>\n",
              "    </tr>\n",
              "  </thead>\n",
              "  <tbody>\n",
              "    <tr>\n",
              "      <th>239</th>\n",
              "      <td>48.0</td>\n",
              "      <td>1.0</td>\n",
              "      <td>2.0</td>\n",
              "      <td>110.0</td>\n",
              "      <td>229.000000</td>\n",
              "      <td>0.0</td>\n",
              "      <td>0.0</td>\n",
              "      <td>168.0</td>\n",
              "      <td>0.0</td>\n",
              "      <td>1.0</td>\n",
              "      <td>3.0</td>\n",
              "      <td>0.0</td>\n",
              "      <td>7.0</td>\n",
              "    </tr>\n",
              "    <tr>\n",
              "      <th>32</th>\n",
              "      <td>60.0</td>\n",
              "      <td>1.0</td>\n",
              "      <td>3.0</td>\n",
              "      <td>140.0</td>\n",
              "      <td>185.000000</td>\n",
              "      <td>0.0</td>\n",
              "      <td>2.0</td>\n",
              "      <td>155.0</td>\n",
              "      <td>0.0</td>\n",
              "      <td>3.0</td>\n",
              "      <td>2.0</td>\n",
              "      <td>0.0</td>\n",
              "      <td>3.0</td>\n",
              "    </tr>\n",
              "    <tr>\n",
              "      <th>212</th>\n",
              "      <td>66.0</td>\n",
              "      <td>1.0</td>\n",
              "      <td>4.0</td>\n",
              "      <td>112.0</td>\n",
              "      <td>212.000000</td>\n",
              "      <td>0.0</td>\n",
              "      <td>2.0</td>\n",
              "      <td>132.0</td>\n",
              "      <td>1.0</td>\n",
              "      <td>0.1</td>\n",
              "      <td>1.0</td>\n",
              "      <td>1.0</td>\n",
              "      <td>3.0</td>\n",
              "    </tr>\n",
              "    <tr>\n",
              "      <th>13</th>\n",
              "      <td>64.0</td>\n",
              "      <td>1.0</td>\n",
              "      <td>1.0</td>\n",
              "      <td>110.0</td>\n",
              "      <td>251.155102</td>\n",
              "      <td>0.0</td>\n",
              "      <td>2.0</td>\n",
              "      <td>144.0</td>\n",
              "      <td>1.0</td>\n",
              "      <td>1.8</td>\n",
              "      <td>2.0</td>\n",
              "      <td>0.0</td>\n",
              "      <td>3.0</td>\n",
              "    </tr>\n",
              "    <tr>\n",
              "      <th>253</th>\n",
              "      <td>56.0</td>\n",
              "      <td>1.0</td>\n",
              "      <td>3.0</td>\n",
              "      <td>130.0</td>\n",
              "      <td>256.000000</td>\n",
              "      <td>1.0</td>\n",
              "      <td>2.0</td>\n",
              "      <td>142.0</td>\n",
              "      <td>1.0</td>\n",
              "      <td>0.6</td>\n",
              "      <td>2.0</td>\n",
              "      <td>1.0</td>\n",
              "      <td>6.0</td>\n",
              "    </tr>\n",
              "    <tr>\n",
              "      <th>...</th>\n",
              "      <td>...</td>\n",
              "      <td>...</td>\n",
              "      <td>...</td>\n",
              "      <td>...</td>\n",
              "      <td>...</td>\n",
              "      <td>...</td>\n",
              "      <td>...</td>\n",
              "      <td>...</td>\n",
              "      <td>...</td>\n",
              "      <td>...</td>\n",
              "      <td>...</td>\n",
              "      <td>...</td>\n",
              "      <td>...</td>\n",
              "    </tr>\n",
              "    <tr>\n",
              "      <th>262</th>\n",
              "      <td>43.0</td>\n",
              "      <td>1.0</td>\n",
              "      <td>4.0</td>\n",
              "      <td>115.0</td>\n",
              "      <td>303.000000</td>\n",
              "      <td>0.0</td>\n",
              "      <td>0.0</td>\n",
              "      <td>181.0</td>\n",
              "      <td>0.0</td>\n",
              "      <td>1.2</td>\n",
              "      <td>2.0</td>\n",
              "      <td>0.0</td>\n",
              "      <td>3.0</td>\n",
              "    </tr>\n",
              "    <tr>\n",
              "      <th>104</th>\n",
              "      <td>57.0</td>\n",
              "      <td>1.0</td>\n",
              "      <td>3.0</td>\n",
              "      <td>128.0</td>\n",
              "      <td>229.000000</td>\n",
              "      <td>0.0</td>\n",
              "      <td>2.0</td>\n",
              "      <td>150.0</td>\n",
              "      <td>0.0</td>\n",
              "      <td>0.4</td>\n",
              "      <td>2.0</td>\n",
              "      <td>1.0</td>\n",
              "      <td>7.0</td>\n",
              "    </tr>\n",
              "    <tr>\n",
              "      <th>181</th>\n",
              "      <td>55.0</td>\n",
              "      <td>0.0</td>\n",
              "      <td>2.0</td>\n",
              "      <td>135.0</td>\n",
              "      <td>251.155102</td>\n",
              "      <td>0.0</td>\n",
              "      <td>2.0</td>\n",
              "      <td>161.0</td>\n",
              "      <td>0.0</td>\n",
              "      <td>1.4</td>\n",
              "      <td>2.0</td>\n",
              "      <td>0.0</td>\n",
              "      <td>3.0</td>\n",
              "    </tr>\n",
              "    <tr>\n",
              "      <th>25</th>\n",
              "      <td>37.0</td>\n",
              "      <td>1.0</td>\n",
              "      <td>3.0</td>\n",
              "      <td>130.0</td>\n",
              "      <td>251.155102</td>\n",
              "      <td>0.0</td>\n",
              "      <td>0.0</td>\n",
              "      <td>187.0</td>\n",
              "      <td>0.0</td>\n",
              "      <td>3.5</td>\n",
              "      <td>3.0</td>\n",
              "      <td>0.0</td>\n",
              "      <td>3.0</td>\n",
              "    </tr>\n",
              "    <tr>\n",
              "      <th>150</th>\n",
              "      <td>51.0</td>\n",
              "      <td>1.0</td>\n",
              "      <td>3.0</td>\n",
              "      <td>94.0</td>\n",
              "      <td>227.000000</td>\n",
              "      <td>0.0</td>\n",
              "      <td>0.0</td>\n",
              "      <td>154.0</td>\n",
              "      <td>1.0</td>\n",
              "      <td>0.0</td>\n",
              "      <td>1.0</td>\n",
              "      <td>1.0</td>\n",
              "      <td>7.0</td>\n",
              "    </tr>\n",
              "  </tbody>\n",
              "</table>\n",
              "<p>81 rows × 13 columns</p>\n",
              "</div>\n",
              "    <div class=\"colab-df-buttons\">\n",
              "\n",
              "  <div class=\"colab-df-container\">\n",
              "    <button class=\"colab-df-convert\" onclick=\"convertToInteractive('df-4f968aa2-9c32-4a76-b52a-79507176de1c')\"\n",
              "            title=\"Convert this dataframe to an interactive table.\"\n",
              "            style=\"display:none;\">\n",
              "\n",
              "  <svg xmlns=\"http://www.w3.org/2000/svg\" height=\"24px\" viewBox=\"0 -960 960 960\">\n",
              "    <path d=\"M120-120v-720h720v720H120Zm60-500h600v-160H180v160Zm220 220h160v-160H400v160Zm0 220h160v-160H400v160ZM180-400h160v-160H180v160Zm440 0h160v-160H620v160ZM180-180h160v-160H180v160Zm440 0h160v-160H620v160Z\"/>\n",
              "  </svg>\n",
              "    </button>\n",
              "\n",
              "  <style>\n",
              "    .colab-df-container {\n",
              "      display:flex;\n",
              "      gap: 12px;\n",
              "    }\n",
              "\n",
              "    .colab-df-convert {\n",
              "      background-color: #E8F0FE;\n",
              "      border: none;\n",
              "      border-radius: 50%;\n",
              "      cursor: pointer;\n",
              "      display: none;\n",
              "      fill: #1967D2;\n",
              "      height: 32px;\n",
              "      padding: 0 0 0 0;\n",
              "      width: 32px;\n",
              "    }\n",
              "\n",
              "    .colab-df-convert:hover {\n",
              "      background-color: #E2EBFA;\n",
              "      box-shadow: 0px 1px 2px rgba(60, 64, 67, 0.3), 0px 1px 3px 1px rgba(60, 64, 67, 0.15);\n",
              "      fill: #174EA6;\n",
              "    }\n",
              "\n",
              "    .colab-df-buttons div {\n",
              "      margin-bottom: 4px;\n",
              "    }\n",
              "\n",
              "    [theme=dark] .colab-df-convert {\n",
              "      background-color: #3B4455;\n",
              "      fill: #D2E3FC;\n",
              "    }\n",
              "\n",
              "    [theme=dark] .colab-df-convert:hover {\n",
              "      background-color: #434B5C;\n",
              "      box-shadow: 0px 1px 3px 1px rgba(0, 0, 0, 0.15);\n",
              "      filter: drop-shadow(0px 1px 2px rgba(0, 0, 0, 0.3));\n",
              "      fill: #FFFFFF;\n",
              "    }\n",
              "  </style>\n",
              "\n",
              "    <script>\n",
              "      const buttonEl =\n",
              "        document.querySelector('#df-4f968aa2-9c32-4a76-b52a-79507176de1c button.colab-df-convert');\n",
              "      buttonEl.style.display =\n",
              "        google.colab.kernel.accessAllowed ? 'block' : 'none';\n",
              "\n",
              "      async function convertToInteractive(key) {\n",
              "        const element = document.querySelector('#df-4f968aa2-9c32-4a76-b52a-79507176de1c');\n",
              "        const dataTable =\n",
              "          await google.colab.kernel.invokeFunction('convertToInteractive',\n",
              "                                                    [key], {});\n",
              "        if (!dataTable) return;\n",
              "\n",
              "        const docLinkHtml = 'Like what you see? Visit the ' +\n",
              "          '<a target=\"_blank\" href=https://colab.research.google.com/notebooks/data_table.ipynb>data table notebook</a>'\n",
              "          + ' to learn more about interactive tables.';\n",
              "        element.innerHTML = '';\n",
              "        dataTable['output_type'] = 'display_data';\n",
              "        await google.colab.output.renderOutput(dataTable, element);\n",
              "        const docLink = document.createElement('div');\n",
              "        docLink.innerHTML = docLinkHtml;\n",
              "        element.appendChild(docLink);\n",
              "      }\n",
              "    </script>\n",
              "  </div>\n",
              "\n",
              "\n",
              "<div id=\"df-29eccf49-cfd3-4c99-9987-b8805d50ebaf\">\n",
              "  <button class=\"colab-df-quickchart\" onclick=\"quickchart('df-29eccf49-cfd3-4c99-9987-b8805d50ebaf')\"\n",
              "            title=\"Suggest charts.\"\n",
              "            style=\"display:none;\">\n",
              "\n",
              "<svg xmlns=\"http://www.w3.org/2000/svg\" height=\"24px\"viewBox=\"0 0 24 24\"\n",
              "     width=\"24px\">\n",
              "    <g>\n",
              "        <path d=\"M19 3H5c-1.1 0-2 .9-2 2v14c0 1.1.9 2 2 2h14c1.1 0 2-.9 2-2V5c0-1.1-.9-2-2-2zM9 17H7v-7h2v7zm4 0h-2V7h2v10zm4 0h-2v-4h2v4z\"/>\n",
              "    </g>\n",
              "</svg>\n",
              "  </button>\n",
              "\n",
              "<style>\n",
              "  .colab-df-quickchart {\n",
              "      --bg-color: #E8F0FE;\n",
              "      --fill-color: #1967D2;\n",
              "      --hover-bg-color: #E2EBFA;\n",
              "      --hover-fill-color: #174EA6;\n",
              "      --disabled-fill-color: #AAA;\n",
              "      --disabled-bg-color: #DDD;\n",
              "  }\n",
              "\n",
              "  [theme=dark] .colab-df-quickchart {\n",
              "      --bg-color: #3B4455;\n",
              "      --fill-color: #D2E3FC;\n",
              "      --hover-bg-color: #434B5C;\n",
              "      --hover-fill-color: #FFFFFF;\n",
              "      --disabled-bg-color: #3B4455;\n",
              "      --disabled-fill-color: #666;\n",
              "  }\n",
              "\n",
              "  .colab-df-quickchart {\n",
              "    background-color: var(--bg-color);\n",
              "    border: none;\n",
              "    border-radius: 50%;\n",
              "    cursor: pointer;\n",
              "    display: none;\n",
              "    fill: var(--fill-color);\n",
              "    height: 32px;\n",
              "    padding: 0;\n",
              "    width: 32px;\n",
              "  }\n",
              "\n",
              "  .colab-df-quickchart:hover {\n",
              "    background-color: var(--hover-bg-color);\n",
              "    box-shadow: 0 1px 2px rgba(60, 64, 67, 0.3), 0 1px 3px 1px rgba(60, 64, 67, 0.15);\n",
              "    fill: var(--button-hover-fill-color);\n",
              "  }\n",
              "\n",
              "  .colab-df-quickchart-complete:disabled,\n",
              "  .colab-df-quickchart-complete:disabled:hover {\n",
              "    background-color: var(--disabled-bg-color);\n",
              "    fill: var(--disabled-fill-color);\n",
              "    box-shadow: none;\n",
              "  }\n",
              "\n",
              "  .colab-df-spinner {\n",
              "    border: 2px solid var(--fill-color);\n",
              "    border-color: transparent;\n",
              "    border-bottom-color: var(--fill-color);\n",
              "    animation:\n",
              "      spin 1s steps(1) infinite;\n",
              "  }\n",
              "\n",
              "  @keyframes spin {\n",
              "    0% {\n",
              "      border-color: transparent;\n",
              "      border-bottom-color: var(--fill-color);\n",
              "      border-left-color: var(--fill-color);\n",
              "    }\n",
              "    20% {\n",
              "      border-color: transparent;\n",
              "      border-left-color: var(--fill-color);\n",
              "      border-top-color: var(--fill-color);\n",
              "    }\n",
              "    30% {\n",
              "      border-color: transparent;\n",
              "      border-left-color: var(--fill-color);\n",
              "      border-top-color: var(--fill-color);\n",
              "      border-right-color: var(--fill-color);\n",
              "    }\n",
              "    40% {\n",
              "      border-color: transparent;\n",
              "      border-right-color: var(--fill-color);\n",
              "      border-top-color: var(--fill-color);\n",
              "    }\n",
              "    60% {\n",
              "      border-color: transparent;\n",
              "      border-right-color: var(--fill-color);\n",
              "    }\n",
              "    80% {\n",
              "      border-color: transparent;\n",
              "      border-right-color: var(--fill-color);\n",
              "      border-bottom-color: var(--fill-color);\n",
              "    }\n",
              "    90% {\n",
              "      border-color: transparent;\n",
              "      border-bottom-color: var(--fill-color);\n",
              "    }\n",
              "  }\n",
              "</style>\n",
              "\n",
              "  <script>\n",
              "    async function quickchart(key) {\n",
              "      const quickchartButtonEl =\n",
              "        document.querySelector('#' + key + ' button');\n",
              "      quickchartButtonEl.disabled = true;  // To prevent multiple clicks.\n",
              "      quickchartButtonEl.classList.add('colab-df-spinner');\n",
              "      try {\n",
              "        const charts = await google.colab.kernel.invokeFunction(\n",
              "            'suggestCharts', [key], {});\n",
              "      } catch (error) {\n",
              "        console.error('Error during call to suggestCharts:', error);\n",
              "      }\n",
              "      quickchartButtonEl.classList.remove('colab-df-spinner');\n",
              "      quickchartButtonEl.classList.add('colab-df-quickchart-complete');\n",
              "    }\n",
              "    (() => {\n",
              "      let quickchartButtonEl =\n",
              "        document.querySelector('#df-29eccf49-cfd3-4c99-9987-b8805d50ebaf button');\n",
              "      quickchartButtonEl.style.display =\n",
              "        google.colab.kernel.accessAllowed ? 'block' : 'none';\n",
              "    })();\n",
              "  </script>\n",
              "</div>\n",
              "    </div>\n",
              "  </div>\n"
            ]
          },
          "metadata": {},
          "execution_count": 16
        }
      ]
    },
    {
      "cell_type": "code",
      "source": [
        "yhat = np.zeros_like(predictions)\n",
        "for i in range(len(predictions)):\n",
        "    if predictions[i] >= 0.5:\n",
        "        yhat[i] = 1\n",
        "    else:\n",
        "        yhat[i] = 0\n",
        "print(f\"decisions = \\n{yhat}\")"
      ],
      "metadata": {
        "colab": {
          "base_uri": "https://localhost:8080/"
        },
        "id": "5paaDwUzwHZ6",
        "outputId": "1360a5d1-629f-4cdf-e967-8d0effb83296"
      },
      "execution_count": 17,
      "outputs": [
        {
          "output_type": "stream",
          "name": "stdout",
          "text": [
            "decisions = \n",
            "[[0.]\n",
            " [1.]\n",
            " [1.]\n",
            " [0.]\n",
            " [1.]\n",
            " [0.]\n",
            " [1.]\n",
            " [0.]\n",
            " [0.]\n",
            " [1.]\n",
            " [1.]\n",
            " [0.]\n",
            " [0.]\n",
            " [1.]\n",
            " [0.]\n",
            " [1.]\n",
            " [0.]\n",
            " [1.]\n",
            " [0.]\n",
            " [1.]\n",
            " [0.]\n",
            " [1.]\n",
            " [1.]\n",
            " [0.]\n",
            " [0.]\n",
            " [1.]\n",
            " [0.]\n",
            " [0.]\n",
            " [1.]\n",
            " [0.]\n",
            " [0.]\n",
            " [1.]\n",
            " [0.]\n",
            " [1.]\n",
            " [1.]\n",
            " [0.]\n",
            " [0.]\n",
            " [0.]\n",
            " [1.]\n",
            " [1.]\n",
            " [1.]\n",
            " [1.]\n",
            " [0.]\n",
            " [1.]\n",
            " [0.]\n",
            " [1.]\n",
            " [1.]\n",
            " [0.]\n",
            " [0.]\n",
            " [1.]\n",
            " [1.]\n",
            " [0.]\n",
            " [1.]\n",
            " [1.]\n",
            " [0.]\n",
            " [0.]\n",
            " [0.]\n",
            " [1.]\n",
            " [0.]\n",
            " [0.]\n",
            " [0.]\n",
            " [1.]\n",
            " [0.]\n",
            " [0.]\n",
            " [1.]\n",
            " [0.]\n",
            " [1.]\n",
            " [0.]\n",
            " [1.]\n",
            " [1.]\n",
            " [0.]\n",
            " [0.]\n",
            " [0.]\n",
            " [0.]\n",
            " [0.]\n",
            " [0.]\n",
            " [0.]\n",
            " [1.]\n",
            " [0.]\n",
            " [0.]\n",
            " [0.]]\n"
          ]
        }
      ]
    },
    {
      "cell_type": "code",
      "source": [
        "y_test"
      ],
      "metadata": {
        "id": "lN0blbA4XgNe",
        "colab": {
          "base_uri": "https://localhost:8080/"
        },
        "outputId": "309ccbe5-9dcd-4ff7-ea0c-ac753dfea413"
      },
      "execution_count": 18,
      "outputs": [
        {
          "output_type": "execute_result",
          "data": {
            "text/plain": [
              "239    1.0\n",
              "32     1.0\n",
              "212    1.0\n",
              "13     0.0\n",
              "253    1.0\n",
              "      ... \n",
              "262    0.0\n",
              "104    1.0\n",
              "181    0.0\n",
              "25     0.0\n",
              "150    0.0\n",
              "Name: Heart Disease, Length: 81, dtype: float64"
            ]
          },
          "metadata": {},
          "execution_count": 18
        }
      ]
    },
    {
      "cell_type": "code",
      "source": [
        " probability_model = tf.keras.Sequential([\n",
        "   model,\n",
        "   tf.keras.layers.Softmax()\n",
        " ])"
      ],
      "metadata": {
        "id": "D5R0RXKNxxtw"
      },
      "execution_count": 19,
      "outputs": []
    },
    {
      "cell_type": "code",
      "source": [
        " probability_model(Xn_test)\n"
      ],
      "metadata": {
        "id": "Koe9tLqjv-Nl",
        "colab": {
          "base_uri": "https://localhost:8080/"
        },
        "outputId": "aec4dd11-586d-4bcf-a646-22d2868ba224"
      },
      "execution_count": 20,
      "outputs": [
        {
          "output_type": "execute_result",
          "data": {
            "text/plain": [
              "<tf.Tensor: shape=(81, 1), dtype=float32, numpy=\n",
              "array([[0.99999994],\n",
              "       [0.99999994],\n",
              "       [0.99999994],\n",
              "       [0.99999994],\n",
              "       [0.99999994],\n",
              "       [0.99999994],\n",
              "       [0.99999994],\n",
              "       [0.99999994],\n",
              "       [0.99999994],\n",
              "       [0.99999994],\n",
              "       [0.99999994],\n",
              "       [0.99999994],\n",
              "       [0.99999994],\n",
              "       [0.99999994],\n",
              "       [0.99999994],\n",
              "       [0.99999994],\n",
              "       [0.99999994],\n",
              "       [0.99999994],\n",
              "       [0.99999994],\n",
              "       [0.99999994],\n",
              "       [0.99999994],\n",
              "       [0.99999994],\n",
              "       [0.99999994],\n",
              "       [0.99999994],\n",
              "       [0.99999994],\n",
              "       [0.99999994],\n",
              "       [0.99999994],\n",
              "       [0.99999994],\n",
              "       [0.99999994],\n",
              "       [0.99999994],\n",
              "       [0.99999994],\n",
              "       [0.99999994],\n",
              "       [0.99999994],\n",
              "       [0.99999994],\n",
              "       [0.99999994],\n",
              "       [0.99999994],\n",
              "       [0.99999994],\n",
              "       [0.99999994],\n",
              "       [0.99999994],\n",
              "       [0.99999994],\n",
              "       [0.99999994],\n",
              "       [0.99999994],\n",
              "       [0.99999994],\n",
              "       [0.99999994],\n",
              "       [0.99999994],\n",
              "       [0.99999994],\n",
              "       [0.99999994],\n",
              "       [0.99999994],\n",
              "       [0.99999994],\n",
              "       [0.99999994],\n",
              "       [0.99999994],\n",
              "       [0.99999994],\n",
              "       [0.99999994],\n",
              "       [0.99999994],\n",
              "       [0.99999994],\n",
              "       [0.99999994],\n",
              "       [0.99999994],\n",
              "       [0.99999994],\n",
              "       [0.99999994],\n",
              "       [0.99999994],\n",
              "       [0.99999994],\n",
              "       [0.99999994],\n",
              "       [0.99999994],\n",
              "       [0.99999994],\n",
              "       [0.99999994],\n",
              "       [0.99999994],\n",
              "       [0.99999994],\n",
              "       [0.99999994],\n",
              "       [0.99999994],\n",
              "       [0.99999994],\n",
              "       [0.99999994],\n",
              "       [0.99999994],\n",
              "       [0.99999994],\n",
              "       [0.99999994],\n",
              "       [0.99999994],\n",
              "       [0.99999994],\n",
              "       [0.99999994],\n",
              "       [0.99999994],\n",
              "       [0.99999994],\n",
              "       [0.99999994],\n",
              "       [1.        ]], dtype=float32)>"
            ]
          },
          "metadata": {},
          "execution_count": 20
        }
      ]
    },
    {
      "cell_type": "code",
      "source": [
        "model.evaluate(Xn_test,y_test,verbose=2)"
      ],
      "metadata": {
        "colab": {
          "base_uri": "https://localhost:8080/"
        },
        "id": "a_j4LIoAxrt9",
        "outputId": "2b63e7b9-bc19-44b6-e15b-9128b4699c5b"
      },
      "execution_count": 21,
      "outputs": [
        {
          "output_type": "stream",
          "name": "stdout",
          "text": [
            "3/3 - 0s - loss: 0.4440 - accuracy: 0.8395 - 107ms/epoch - 36ms/step\n"
          ]
        },
        {
          "output_type": "execute_result",
          "data": {
            "text/plain": [
              "[0.44397297501564026, 0.8395061492919922]"
            ]
          },
          "metadata": {},
          "execution_count": 21
        }
      ]
    },
    {
      "cell_type": "code",
      "source": [],
      "metadata": {
        "id": "6u6E1B5KVyhH"
      },
      "execution_count": 21,
      "outputs": []
    },
    {
      "cell_type": "code",
      "source": [
        "model.evaluate(X_test,y_test,verbose=2)"
      ],
      "metadata": {
        "id": "N14P-Flt1MRZ",
        "colab": {
          "base_uri": "https://localhost:8080/"
        },
        "outputId": "86d5eea8-433b-4e8d-ce35-84fd7dea61ea"
      },
      "execution_count": 22,
      "outputs": [
        {
          "output_type": "stream",
          "name": "stdout",
          "text": [
            "3/3 - 0s - loss: 50.6126 - accuracy: 0.4198 - 86ms/epoch - 29ms/step\n"
          ]
        },
        {
          "output_type": "execute_result",
          "data": {
            "text/plain": [
              "[50.612640380859375, 0.4197530746459961]"
            ]
          },
          "metadata": {},
          "execution_count": 22
        }
      ]
    },
    {
      "cell_type": "code",
      "source": [],
      "metadata": {
        "id": "NPfV8OGRV1K8"
      },
      "execution_count": 22,
      "outputs": []
    },
    {
      "cell_type": "markdown",
      "source": [
        "layer 9 8 4 1 accu cao, phai xai all sigmoid\n",
        "xai softmax bi overfitting\n",
        "9 4 1 cung bị ovèitting\n",
        "\n",
        "xai sigmoid truong hop nào cũng bị underfitting\n",
        "\n",
        "9 4 1 all sigmoid [2.762671947479248, 0.7407407164573669]\n",
        "de khong bi overfitting xai relu\n",
        "8 4 1 relu relu sigmoid\n",
        "\n",
        "```\n",
        "# This is formatted as code\n",
        "```\n",
        "\n"
      ],
      "metadata": {
        "id": "gBHolhYeV-Rp"
      }
    },
    {
      "cell_type": "code",
      "source": [],
      "metadata": {
        "id": "557sIIh6W7jA"
      },
      "execution_count": 22,
      "outputs": []
    }
  ],
  "metadata": {
    "kernelspec": {
      "display_name": "myenv2",
      "language": "python",
      "name": "python3"
    },
    "language_info": {
      "codemirror_mode": {
        "name": "ipython",
        "version": 3
      },
      "file_extension": ".py",
      "mimetype": "text/x-python",
      "name": "python",
      "nbconvert_exporter": "python",
      "pygments_lexer": "ipython3",
      "version": "3.9.17"
    },
    "colab": {
      "provenance": []
    }
  },
  "nbformat": 4,
  "nbformat_minor": 0
}