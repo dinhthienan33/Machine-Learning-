{
  "cells": [
    {
      "cell_type": "code",
      "execution_count": 1,
      "metadata": {
        "id": "_ITGRoLJe8eh"
      },
      "outputs": [],
      "source": [
        "import numpy as np\n",
        "import pandas as pd\n",
        "import tensorflow as tf\n",
        "import matplotlib.pyplot as plt\n",
        "from tensorflow.keras.models import Sequential\n",
        "from tensorflow.keras.layers import Dense\n",
        "import matplotlib.pyplot as plt"
      ]
    },
    {
      "cell_type": "code",
      "execution_count": 2,
      "metadata": {
        "id": "8v5aH3dje8es"
      },
      "outputs": [],
      "source": [
        "#Load data\n",
        "data=pd.read_csv('/HD.csv')\n",
        "\n",
        "# Separating the training set and test set\n",
        "from sklearn.model_selection import train_test_split\n",
        "\n",
        "X = data.drop('Heart Disease',axis=1)\n",
        "y = data['Heart Disease']\n",
        "X_train, X_test, y_train, y_test = train_test_split(X, y, test_size=0.30, random_state=101)"
      ]
    },
    {
      "cell_type": "code",
      "source": [
        "# Normalization\n",
        "norm_l = tf.keras.layers.Normalization(axis=-1)\n",
        "norm_l.adapt(X_train)  # learns mean, variance # learns mean, variance\n",
        "Xn_train = norm_l(X_train)\n",
        "Xn_test = norm_l(X_test)"
      ],
      "metadata": {
        "id": "TdIms8i1iv_c"
      },
      "execution_count": 3,
      "outputs": []
    },
    {
      "cell_type": "code",
      "source": [
        "Xn_train.shape"
      ],
      "metadata": {
        "colab": {
          "base_uri": "https://localhost:8080/"
        },
        "id": "zKR98Wq0kMo8",
        "outputId": "46d3b350-74aa-4bbd-90bb-720753214d63"
      },
      "execution_count": 4,
      "outputs": [
        {
          "output_type": "execute_result",
          "data": {
            "text/plain": [
              "TensorShape([189, 13])"
            ]
          },
          "metadata": {},
          "execution_count": 4
        }
      ]
    },
    {
      "cell_type": "code",
      "source": [
        "y_train1=y_train[:,np.newaxis]"
      ],
      "metadata": {
        "colab": {
          "base_uri": "https://localhost:8080/"
        },
        "id": "hsJt8wDMm0mc",
        "outputId": "a341a568-a126-43f2-ab28-adc351186cfb"
      },
      "execution_count": 5,
      "outputs": [
        {
          "output_type": "stream",
          "name": "stderr",
          "text": [
            "<ipython-input-5-f9f65187dd66>:1: FutureWarning: Support for multi-dimensional indexing (e.g. `obj[:, None]`) is deprecated and will be removed in a future version.  Convert to a numpy array before indexing instead.\n",
            "  y_train1=y_train[:,np.newaxis]\n"
          ]
        }
      ]
    },
    {
      "cell_type": "code",
      "source": [],
      "metadata": {
        "id": "jEulySc_rEHz"
      },
      "execution_count": 5,
      "outputs": []
    },
    {
      "cell_type": "code",
      "source": [
        "Xt = np.tile(Xn_train,(1000,1))\n",
        "Yt= np.tile(y_train1,(1000,1))\n",
        "print(Xt.shape, Yt.shape)"
      ],
      "metadata": {
        "colab": {
          "base_uri": "https://localhost:8080/"
        },
        "id": "aeg1DHwYkYKC",
        "outputId": "8f816bdc-0c9b-4dc6-a05a-dbcb066bd3f5"
      },
      "execution_count": 6,
      "outputs": [
        {
          "output_type": "stream",
          "name": "stdout",
          "text": [
            "(189000, 13) (189000, 1)\n"
          ]
        }
      ]
    },
    {
      "cell_type": "code",
      "source": [
        "y_train1.shape"
      ],
      "metadata": {
        "colab": {
          "base_uri": "https://localhost:8080/"
        },
        "id": "Do0Dhvn0qSjT",
        "outputId": "f09d54c2-b3c6-41e0-8996-41ee919b2779"
      },
      "execution_count": 7,
      "outputs": [
        {
          "output_type": "execute_result",
          "data": {
            "text/plain": [
              "(189, 1)"
            ]
          },
          "metadata": {},
          "execution_count": 7
        }
      ]
    },
    {
      "cell_type": "code",
      "source": [
        "model = tf.keras.models.Sequential(\n",
        "    [\n",
        "        tf.keras.Input(shape=(13,)),    # specify input size (optional)\n",
        "        Dense(8, activation='relu'),\n",
        "        #Dense(8, activation='sigmoid'),\n",
        "        Dense(4, activation='relu'),\n",
        "        Dense(1,activation='sigmoid')\n",
        "    ]\n",
        ")"
      ],
      "metadata": {
        "id": "7fkB_v99gYMy"
      },
      "execution_count": 8,
      "outputs": []
    },
    {
      "cell_type": "code",
      "source": [
        "model.summary()"
      ],
      "metadata": {
        "colab": {
          "base_uri": "https://localhost:8080/"
        },
        "id": "jgg361F8gZ9q",
        "outputId": "dce2a588-bfe5-47a8-d637-c28f8dc3444b"
      },
      "execution_count": 9,
      "outputs": [
        {
          "output_type": "stream",
          "name": "stdout",
          "text": [
            "Model: \"sequential\"\n",
            "_________________________________________________________________\n",
            " Layer (type)                Output Shape              Param #   \n",
            "=================================================================\n",
            " dense (Dense)               (None, 8)                 112       \n",
            "                                                                 \n",
            " dense_1 (Dense)             (None, 4)                 36        \n",
            "                                                                 \n",
            " dense_2 (Dense)             (None, 1)                 5         \n",
            "                                                                 \n",
            "=================================================================\n",
            "Total params: 153 (612.00 Byte)\n",
            "Trainable params: 153 (612.00 Byte)\n",
            "Non-trainable params: 0 (0.00 Byte)\n",
            "_________________________________________________________________\n"
          ]
        }
      ]
    },
    {
      "cell_type": "code",
      "source": [],
      "metadata": {
        "id": "EgCY7Y7wkgM9"
      },
      "execution_count": 9,
      "outputs": []
    },
    {
      "cell_type": "code",
      "source": [
        "[layer1, layer2, layer3] = model.layers"
      ],
      "metadata": {
        "id": "lFcH-aW6h17n"
      },
      "execution_count": 10,
      "outputs": []
    },
    {
      "cell_type": "code",
      "source": [
        "#### Examine Weights shapes\n",
        "W1,b1 = layer1.get_weights()\n",
        "W2,b2 = layer2.get_weights()\n",
        "W3,b3 = layer3.get_weights()\n",
        "#W4,b4 = layer4.get_weights()\n",
        "print(f\"W1 shape = {W1.shape}, b1 shape = {b1.shape}\")\n",
        "print(f\"W2 shape = {W2.shape}, b2 shape = {b2.shape}\")\n",
        "print(f\"W3 shape = {W3.shape}, b3 shape = {b3.shape}\")\n",
        "#print(f\"W4 shape = {W4.shape}, b4 shape = {b4.shape}\")"
      ],
      "metadata": {
        "id": "1be2kY8diEHn",
        "colab": {
          "base_uri": "https://localhost:8080/"
        },
        "outputId": "0d45ef4c-85cf-45c4-b534-6ace903eb2e0"
      },
      "execution_count": 11,
      "outputs": [
        {
          "output_type": "stream",
          "name": "stdout",
          "text": [
            "W1 shape = (13, 8), b1 shape = (8,)\n",
            "W2 shape = (8, 4), b2 shape = (4,)\n",
            "W3 shape = (4, 1), b3 shape = (1,)\n"
          ]
        }
      ]
    },
    {
      "cell_type": "code",
      "source": [
        "model.compile(\n",
        "    loss = tf.keras.losses.BinaryCrossentropy(),\n",
        "    optimizer = tf.keras.optimizers.Adam(learning_rate=0.01),\n",
        "    metrics=['accuracy']\n",
        ")\n",
        "\n"
      ],
      "metadata": {
        "id": "JwPcJ1vPiNTs"
      },
      "execution_count": 12,
      "outputs": []
    },
    {
      "cell_type": "code",
      "source": [
        "model.fit(\n",
        "    Xt,Yt,\n",
        "    epochs=10,\n",
        ")"
      ],
      "metadata": {
        "colab": {
          "base_uri": "https://localhost:8080/"
        },
        "id": "cSj8GYsbqtFB",
        "outputId": "d605d471-97c9-4d45-a64d-66734243807b"
      },
      "execution_count": 13,
      "outputs": [
        {
          "output_type": "stream",
          "name": "stdout",
          "text": [
            "Epoch 1/10\n",
            "5907/5907 [==============================] - 11s 2ms/step - loss: 0.0376 - accuracy: 0.9827\n",
            "Epoch 2/10\n",
            "5907/5907 [==============================] - 10s 2ms/step - loss: 0.0213 - accuracy: 0.9890\n",
            "Epoch 3/10\n",
            "5907/5907 [==============================] - 7s 1ms/step - loss: 0.0221 - accuracy: 0.9889\n",
            "Epoch 4/10\n",
            "5907/5907 [==============================] - 7s 1ms/step - loss: 0.0213 - accuracy: 0.9891\n",
            "Epoch 5/10\n",
            "5907/5907 [==============================] - 11s 2ms/step - loss: 0.0204 - accuracy: 0.9893\n",
            "Epoch 6/10\n",
            "5907/5907 [==============================] - 7s 1ms/step - loss: 0.0255 - accuracy: 0.9891\n",
            "Epoch 7/10\n",
            "5907/5907 [==============================] - 7s 1ms/step - loss: 0.0289 - accuracy: 0.9854\n",
            "Epoch 8/10\n",
            "5907/5907 [==============================] - 7s 1ms/step - loss: 0.0326 - accuracy: 0.9830\n",
            "Epoch 9/10\n",
            "5907/5907 [==============================] - 7s 1ms/step - loss: 0.0307 - accuracy: 0.9837\n",
            "Epoch 10/10\n",
            "5907/5907 [==============================] - 7s 1ms/step - loss: 0.0242 - accuracy: 0.9893\n"
          ]
        },
        {
          "output_type": "execute_result",
          "data": {
            "text/plain": [
              "<keras.src.callbacks.History at 0x7d106476c130>"
            ]
          },
          "metadata": {},
          "execution_count": 13
        }
      ]
    },
    {
      "cell_type": "code",
      "source": [
        "W1, b1 = model.get_layer(\"dense\").get_weights()\n",
        "W2, b2 = model.get_layer(\"dense_1\").get_weights()\n",
        "W3, b3 = model.get_layer(\"dense_2\").get_weights()\n",
        "#W4, b4 = model.get_layer(\"dense_3\").get_weights()\n",
        "print(\"W1:\\n\", W1, \"\\nb1:\", b1)\n",
        "print(\"W2:\\n\", W2, \"\\nb2:\", b2)\n",
        "print(\"W3:\\n\", W3, \"\\nb3:\", b3)\n",
        "#print(\"W4:\\n\", W4, \"\\nb4:\", b4)"
      ],
      "metadata": {
        "id": "i84K72hFkxfD",
        "colab": {
          "base_uri": "https://localhost:8080/"
        },
        "outputId": "625d465c-7a4f-4433-d829-fda1029886c1"
      },
      "execution_count": 14,
      "outputs": [
        {
          "output_type": "stream",
          "name": "stdout",
          "text": [
            "W1:\n",
            " [[-0.61372066 -0.65024    -1.2217873  -1.2989316  -2.3266177  -0.29017428\n",
            "  -3.2501402   1.3192569 ]\n",
            " [-0.19661298 -0.689458   -1.9762175   1.9352387   2.8390045   1.8301533\n",
            "  -1.9887581  -2.2631795 ]\n",
            " [ 0.3473595   1.531349   -0.18082643  0.0899654   0.8743025   2.7898965\n",
            "  -1.8739047   0.58026856]\n",
            " [ 1.1545932   1.4650747   1.4188132   1.7085669  -0.7417685   0.23437047\n",
            "   1.051246    0.78804976]\n",
            " [ 2.4323196  -1.552181    0.36001417  1.5277239  -0.6288336   0.27755526\n",
            "  -2.9195461  -1.749589  ]\n",
            " [ 3.5811815   1.5203315   1.5189286  -1.8842912  -2.4219162  -0.7711408\n",
            "   1.4641664   0.16713962]\n",
            " [ 0.96924293  1.3877983  -0.28318563  0.79047155  1.868966    1.351769\n",
            "   0.63179415 -0.9097772 ]\n",
            " [ 2.8477488  -2.039994    1.2014111  -1.8713537  -0.09227301  1.39291\n",
            "   0.8064251  -0.39150748]\n",
            " [ 0.36052212 -0.5272763   3.1771965  -1.736469   -1.7489529   0.6338674\n",
            "   0.7680585  -1.4017752 ]\n",
            " [-0.986085    1.0386823   1.6062206   1.684743   -1.7053196  -1.0751165\n",
            "   1.1896015  -0.70252085]\n",
            " [-1.994862    0.7066797   1.1616242   0.21789885 -1.4610744  -2.3313174\n",
            "   0.43577164  1.9647138 ]\n",
            " [-1.9472264  -0.08606348  1.386683   -1.3613124   1.610486    0.00806774\n",
            "  -2.0818315  -1.5868739 ]\n",
            " [ 0.21920364  0.5040476   1.1072916   1.4994882  -0.6230804  -0.7537569\n",
            "  -1.399084   -1.264323  ]] \n",
            "b1: [-0.49932754 -1.6973065  -1.0213029  -1.5732385  -0.91598344 -1.465719\n",
            " -1.5193495   0.46260157]\n",
            "W2:\n",
            " [[-0.1862614  -2.2349594  -2.60331    -2.605612  ]\n",
            " [-0.08562023 -0.02153005  2.1799319   1.3862511 ]\n",
            " [-1.8312114   2.0024896  -1.3670113   2.9000573 ]\n",
            " [-1.4441409  -0.6929559  -1.6638044   1.9719882 ]\n",
            " [ 2.559048    0.95237637  1.4769517   2.305594  ]\n",
            " [-1.3582025   0.881611    1.0752097  -0.50161296]\n",
            " [ 3.1266844   0.01369791 -0.85747886 -1.6580253 ]\n",
            " [ 0.90617114 -1.5970336  -2.4646256   0.10160445]] \n",
            "b2: [ 4.203664   -1.5392376  -1.7016993  -0.41214728]\n",
            "W3:\n",
            " [[-2.8064408]\n",
            " [ 1.5775491]\n",
            " [ 2.8483233]\n",
            " [ 3.334266 ]] \n",
            "b3: [0.8141688]\n"
          ]
        }
      ]
    },
    {
      "cell_type": "code",
      "source": [
        "predictions = model.predict(Xn_test)\n",
        "print(\"predictions = \\n\", predictions)"
      ],
      "metadata": {
        "colab": {
          "base_uri": "https://localhost:8080/"
        },
        "id": "WXkXOqaukp7k",
        "outputId": "ad3b36ce-45a4-4f41-9db2-ba6a8fd8e568"
      },
      "execution_count": 15,
      "outputs": [
        {
          "output_type": "stream",
          "name": "stdout",
          "text": [
            "3/3 [==============================] - 0s 3ms/step\n",
            "predictions = \n",
            " [[4.95131366e-12]\n",
            " [4.11387602e-19]\n",
            " [1.00000000e+00]\n",
            " [6.35846107e-12]\n",
            " [9.97695804e-01]\n",
            " [1.55540547e-05]\n",
            " [1.00000000e+00]\n",
            " [0.00000000e+00]\n",
            " [2.84011192e-09]\n",
            " [1.00000000e+00]\n",
            " [6.92997158e-01]\n",
            " [1.21849298e-01]\n",
            " [6.92997158e-01]\n",
            " [1.00000000e+00]\n",
            " [2.23836609e-11]\n",
            " [1.00000000e+00]\n",
            " [5.74301369e-02]\n",
            " [1.00000000e+00]\n",
            " [0.00000000e+00]\n",
            " [1.00000000e+00]\n",
            " [5.57122111e-01]\n",
            " [1.00000000e+00]\n",
            " [1.00000000e+00]\n",
            " [0.00000000e+00]\n",
            " [9.22066128e-23]\n",
            " [1.00000000e+00]\n",
            " [0.00000000e+00]\n",
            " [4.37367330e-11]\n",
            " [1.00000000e+00]\n",
            " [3.23448851e-10]\n",
            " [6.78196533e-18]\n",
            " [1.00000000e+00]\n",
            " [9.77968777e-38]\n",
            " [1.00000000e+00]\n",
            " [7.00800940e-02]\n",
            " [0.00000000e+00]\n",
            " [0.00000000e+00]\n",
            " [6.69703053e-16]\n",
            " [1.00000000e+00]\n",
            " [7.12262627e-05]\n",
            " [1.00000000e+00]\n",
            " [2.32592672e-14]\n",
            " [1.71530061e-16]\n",
            " [6.92997158e-01]\n",
            " [8.59150333e-08]\n",
            " [1.00000000e+00]\n",
            " [4.81170550e-13]\n",
            " [3.02623623e-21]\n",
            " [3.39239886e-10]\n",
            " [1.00000000e+00]\n",
            " [1.00000000e+00]\n",
            " [1.28470061e-24]\n",
            " [9.99987185e-01]\n",
            " [1.00000000e+00]\n",
            " [1.00000000e+00]\n",
            " [1.45897710e-29]\n",
            " [9.55901245e-15]\n",
            " [6.92997158e-01]\n",
            " [1.00000000e+00]\n",
            " [3.64895358e-09]\n",
            " [2.22747936e-08]\n",
            " [1.00000000e+00]\n",
            " [3.03964766e-27]\n",
            " [1.00000000e+00]\n",
            " [1.09975815e-01]\n",
            " [9.99936640e-01]\n",
            " [1.00000000e+00]\n",
            " [6.92997158e-01]\n",
            " [1.00000000e+00]\n",
            " [1.00000000e+00]\n",
            " [5.37453016e-05]\n",
            " [5.41095760e-13]\n",
            " [9.97119486e-01]\n",
            " [0.00000000e+00]\n",
            " [1.40693974e-05]\n",
            " [3.33272073e-22]\n",
            " [3.71878361e-11]\n",
            " [1.00000000e+00]\n",
            " [0.00000000e+00]\n",
            " [3.24503810e-24]\n",
            " [9.99986291e-01]]\n"
          ]
        }
      ]
    },
    {
      "cell_type": "code",
      "source": [
        "X_test"
      ],
      "metadata": {
        "id": "SzfxHOgUSqRi",
        "colab": {
          "base_uri": "https://localhost:8080/",
          "height": 423
        },
        "outputId": "dc21210a-3805-48c7-a889-801ec2395fdd"
      },
      "execution_count": 16,
      "outputs": [
        {
          "output_type": "execute_result",
          "data": {
            "text/plain": [
              "      Age  Sex  Chest pain type     BP  Cholesterol  FBS over 120  \\\n",
              "239  48.0  1.0              2.0  110.0   229.000000           0.0   \n",
              "32   60.0  1.0              3.0  140.0   185.000000           0.0   \n",
              "212  66.0  1.0              4.0  112.0   212.000000           0.0   \n",
              "13   64.0  1.0              1.0  110.0   251.155102           0.0   \n",
              "253  56.0  1.0              3.0  130.0   256.000000           1.0   \n",
              "..    ...  ...              ...    ...          ...           ...   \n",
              "262  43.0  1.0              4.0  115.0   303.000000           0.0   \n",
              "104  57.0  1.0              3.0  128.0   229.000000           0.0   \n",
              "181  55.0  0.0              2.0  135.0   251.155102           0.0   \n",
              "25   37.0  1.0              3.0  130.0   251.155102           0.0   \n",
              "150  51.0  1.0              3.0   94.0   227.000000           0.0   \n",
              "\n",
              "     EKG results  Max HR  Exercise angina  ST depression  Slope of ST  \\\n",
              "239          0.0   168.0              0.0            1.0          3.0   \n",
              "32           2.0   155.0              0.0            3.0          2.0   \n",
              "212          2.0   132.0              1.0            0.1          1.0   \n",
              "13           2.0   144.0              1.0            1.8          2.0   \n",
              "253          2.0   142.0              1.0            0.6          2.0   \n",
              "..           ...     ...              ...            ...          ...   \n",
              "262          0.0   181.0              0.0            1.2          2.0   \n",
              "104          2.0   150.0              0.0            0.4          2.0   \n",
              "181          2.0   161.0              0.0            1.4          2.0   \n",
              "25           0.0   187.0              0.0            3.5          3.0   \n",
              "150          0.0   154.0              1.0            0.0          1.0   \n",
              "\n",
              "     Number of vessels fluro  Thallium  \n",
              "239                      0.0       7.0  \n",
              "32                       0.0       3.0  \n",
              "212                      1.0       3.0  \n",
              "13                       0.0       3.0  \n",
              "253                      1.0       6.0  \n",
              "..                       ...       ...  \n",
              "262                      0.0       3.0  \n",
              "104                      1.0       7.0  \n",
              "181                      0.0       3.0  \n",
              "25                       0.0       3.0  \n",
              "150                      1.0       7.0  \n",
              "\n",
              "[81 rows x 13 columns]"
            ],
            "text/html": [
              "\n",
              "  <div id=\"df-a4db7fac-8cb3-4420-8a69-96db29be921a\" class=\"colab-df-container\">\n",
              "    <div>\n",
              "<style scoped>\n",
              "    .dataframe tbody tr th:only-of-type {\n",
              "        vertical-align: middle;\n",
              "    }\n",
              "\n",
              "    .dataframe tbody tr th {\n",
              "        vertical-align: top;\n",
              "    }\n",
              "\n",
              "    .dataframe thead th {\n",
              "        text-align: right;\n",
              "    }\n",
              "</style>\n",
              "<table border=\"1\" class=\"dataframe\">\n",
              "  <thead>\n",
              "    <tr style=\"text-align: right;\">\n",
              "      <th></th>\n",
              "      <th>Age</th>\n",
              "      <th>Sex</th>\n",
              "      <th>Chest pain type</th>\n",
              "      <th>BP</th>\n",
              "      <th>Cholesterol</th>\n",
              "      <th>FBS over 120</th>\n",
              "      <th>EKG results</th>\n",
              "      <th>Max HR</th>\n",
              "      <th>Exercise angina</th>\n",
              "      <th>ST depression</th>\n",
              "      <th>Slope of ST</th>\n",
              "      <th>Number of vessels fluro</th>\n",
              "      <th>Thallium</th>\n",
              "    </tr>\n",
              "  </thead>\n",
              "  <tbody>\n",
              "    <tr>\n",
              "      <th>239</th>\n",
              "      <td>48.0</td>\n",
              "      <td>1.0</td>\n",
              "      <td>2.0</td>\n",
              "      <td>110.0</td>\n",
              "      <td>229.000000</td>\n",
              "      <td>0.0</td>\n",
              "      <td>0.0</td>\n",
              "      <td>168.0</td>\n",
              "      <td>0.0</td>\n",
              "      <td>1.0</td>\n",
              "      <td>3.0</td>\n",
              "      <td>0.0</td>\n",
              "      <td>7.0</td>\n",
              "    </tr>\n",
              "    <tr>\n",
              "      <th>32</th>\n",
              "      <td>60.0</td>\n",
              "      <td>1.0</td>\n",
              "      <td>3.0</td>\n",
              "      <td>140.0</td>\n",
              "      <td>185.000000</td>\n",
              "      <td>0.0</td>\n",
              "      <td>2.0</td>\n",
              "      <td>155.0</td>\n",
              "      <td>0.0</td>\n",
              "      <td>3.0</td>\n",
              "      <td>2.0</td>\n",
              "      <td>0.0</td>\n",
              "      <td>3.0</td>\n",
              "    </tr>\n",
              "    <tr>\n",
              "      <th>212</th>\n",
              "      <td>66.0</td>\n",
              "      <td>1.0</td>\n",
              "      <td>4.0</td>\n",
              "      <td>112.0</td>\n",
              "      <td>212.000000</td>\n",
              "      <td>0.0</td>\n",
              "      <td>2.0</td>\n",
              "      <td>132.0</td>\n",
              "      <td>1.0</td>\n",
              "      <td>0.1</td>\n",
              "      <td>1.0</td>\n",
              "      <td>1.0</td>\n",
              "      <td>3.0</td>\n",
              "    </tr>\n",
              "    <tr>\n",
              "      <th>13</th>\n",
              "      <td>64.0</td>\n",
              "      <td>1.0</td>\n",
              "      <td>1.0</td>\n",
              "      <td>110.0</td>\n",
              "      <td>251.155102</td>\n",
              "      <td>0.0</td>\n",
              "      <td>2.0</td>\n",
              "      <td>144.0</td>\n",
              "      <td>1.0</td>\n",
              "      <td>1.8</td>\n",
              "      <td>2.0</td>\n",
              "      <td>0.0</td>\n",
              "      <td>3.0</td>\n",
              "    </tr>\n",
              "    <tr>\n",
              "      <th>253</th>\n",
              "      <td>56.0</td>\n",
              "      <td>1.0</td>\n",
              "      <td>3.0</td>\n",
              "      <td>130.0</td>\n",
              "      <td>256.000000</td>\n",
              "      <td>1.0</td>\n",
              "      <td>2.0</td>\n",
              "      <td>142.0</td>\n",
              "      <td>1.0</td>\n",
              "      <td>0.6</td>\n",
              "      <td>2.0</td>\n",
              "      <td>1.0</td>\n",
              "      <td>6.0</td>\n",
              "    </tr>\n",
              "    <tr>\n",
              "      <th>...</th>\n",
              "      <td>...</td>\n",
              "      <td>...</td>\n",
              "      <td>...</td>\n",
              "      <td>...</td>\n",
              "      <td>...</td>\n",
              "      <td>...</td>\n",
              "      <td>...</td>\n",
              "      <td>...</td>\n",
              "      <td>...</td>\n",
              "      <td>...</td>\n",
              "      <td>...</td>\n",
              "      <td>...</td>\n",
              "      <td>...</td>\n",
              "    </tr>\n",
              "    <tr>\n",
              "      <th>262</th>\n",
              "      <td>43.0</td>\n",
              "      <td>1.0</td>\n",
              "      <td>4.0</td>\n",
              "      <td>115.0</td>\n",
              "      <td>303.000000</td>\n",
              "      <td>0.0</td>\n",
              "      <td>0.0</td>\n",
              "      <td>181.0</td>\n",
              "      <td>0.0</td>\n",
              "      <td>1.2</td>\n",
              "      <td>2.0</td>\n",
              "      <td>0.0</td>\n",
              "      <td>3.0</td>\n",
              "    </tr>\n",
              "    <tr>\n",
              "      <th>104</th>\n",
              "      <td>57.0</td>\n",
              "      <td>1.0</td>\n",
              "      <td>3.0</td>\n",
              "      <td>128.0</td>\n",
              "      <td>229.000000</td>\n",
              "      <td>0.0</td>\n",
              "      <td>2.0</td>\n",
              "      <td>150.0</td>\n",
              "      <td>0.0</td>\n",
              "      <td>0.4</td>\n",
              "      <td>2.0</td>\n",
              "      <td>1.0</td>\n",
              "      <td>7.0</td>\n",
              "    </tr>\n",
              "    <tr>\n",
              "      <th>181</th>\n",
              "      <td>55.0</td>\n",
              "      <td>0.0</td>\n",
              "      <td>2.0</td>\n",
              "      <td>135.0</td>\n",
              "      <td>251.155102</td>\n",
              "      <td>0.0</td>\n",
              "      <td>2.0</td>\n",
              "      <td>161.0</td>\n",
              "      <td>0.0</td>\n",
              "      <td>1.4</td>\n",
              "      <td>2.0</td>\n",
              "      <td>0.0</td>\n",
              "      <td>3.0</td>\n",
              "    </tr>\n",
              "    <tr>\n",
              "      <th>25</th>\n",
              "      <td>37.0</td>\n",
              "      <td>1.0</td>\n",
              "      <td>3.0</td>\n",
              "      <td>130.0</td>\n",
              "      <td>251.155102</td>\n",
              "      <td>0.0</td>\n",
              "      <td>0.0</td>\n",
              "      <td>187.0</td>\n",
              "      <td>0.0</td>\n",
              "      <td>3.5</td>\n",
              "      <td>3.0</td>\n",
              "      <td>0.0</td>\n",
              "      <td>3.0</td>\n",
              "    </tr>\n",
              "    <tr>\n",
              "      <th>150</th>\n",
              "      <td>51.0</td>\n",
              "      <td>1.0</td>\n",
              "      <td>3.0</td>\n",
              "      <td>94.0</td>\n",
              "      <td>227.000000</td>\n",
              "      <td>0.0</td>\n",
              "      <td>0.0</td>\n",
              "      <td>154.0</td>\n",
              "      <td>1.0</td>\n",
              "      <td>0.0</td>\n",
              "      <td>1.0</td>\n",
              "      <td>1.0</td>\n",
              "      <td>7.0</td>\n",
              "    </tr>\n",
              "  </tbody>\n",
              "</table>\n",
              "<p>81 rows × 13 columns</p>\n",
              "</div>\n",
              "    <div class=\"colab-df-buttons\">\n",
              "\n",
              "  <div class=\"colab-df-container\">\n",
              "    <button class=\"colab-df-convert\" onclick=\"convertToInteractive('df-a4db7fac-8cb3-4420-8a69-96db29be921a')\"\n",
              "            title=\"Convert this dataframe to an interactive table.\"\n",
              "            style=\"display:none;\">\n",
              "\n",
              "  <svg xmlns=\"http://www.w3.org/2000/svg\" height=\"24px\" viewBox=\"0 -960 960 960\">\n",
              "    <path d=\"M120-120v-720h720v720H120Zm60-500h600v-160H180v160Zm220 220h160v-160H400v160Zm0 220h160v-160H400v160ZM180-400h160v-160H180v160Zm440 0h160v-160H620v160ZM180-180h160v-160H180v160Zm440 0h160v-160H620v160Z\"/>\n",
              "  </svg>\n",
              "    </button>\n",
              "\n",
              "  <style>\n",
              "    .colab-df-container {\n",
              "      display:flex;\n",
              "      gap: 12px;\n",
              "    }\n",
              "\n",
              "    .colab-df-convert {\n",
              "      background-color: #E8F0FE;\n",
              "      border: none;\n",
              "      border-radius: 50%;\n",
              "      cursor: pointer;\n",
              "      display: none;\n",
              "      fill: #1967D2;\n",
              "      height: 32px;\n",
              "      padding: 0 0 0 0;\n",
              "      width: 32px;\n",
              "    }\n",
              "\n",
              "    .colab-df-convert:hover {\n",
              "      background-color: #E2EBFA;\n",
              "      box-shadow: 0px 1px 2px rgba(60, 64, 67, 0.3), 0px 1px 3px 1px rgba(60, 64, 67, 0.15);\n",
              "      fill: #174EA6;\n",
              "    }\n",
              "\n",
              "    .colab-df-buttons div {\n",
              "      margin-bottom: 4px;\n",
              "    }\n",
              "\n",
              "    [theme=dark] .colab-df-convert {\n",
              "      background-color: #3B4455;\n",
              "      fill: #D2E3FC;\n",
              "    }\n",
              "\n",
              "    [theme=dark] .colab-df-convert:hover {\n",
              "      background-color: #434B5C;\n",
              "      box-shadow: 0px 1px 3px 1px rgba(0, 0, 0, 0.15);\n",
              "      filter: drop-shadow(0px 1px 2px rgba(0, 0, 0, 0.3));\n",
              "      fill: #FFFFFF;\n",
              "    }\n",
              "  </style>\n",
              "\n",
              "    <script>\n",
              "      const buttonEl =\n",
              "        document.querySelector('#df-a4db7fac-8cb3-4420-8a69-96db29be921a button.colab-df-convert');\n",
              "      buttonEl.style.display =\n",
              "        google.colab.kernel.accessAllowed ? 'block' : 'none';\n",
              "\n",
              "      async function convertToInteractive(key) {\n",
              "        const element = document.querySelector('#df-a4db7fac-8cb3-4420-8a69-96db29be921a');\n",
              "        const dataTable =\n",
              "          await google.colab.kernel.invokeFunction('convertToInteractive',\n",
              "                                                    [key], {});\n",
              "        if (!dataTable) return;\n",
              "\n",
              "        const docLinkHtml = 'Like what you see? Visit the ' +\n",
              "          '<a target=\"_blank\" href=https://colab.research.google.com/notebooks/data_table.ipynb>data table notebook</a>'\n",
              "          + ' to learn more about interactive tables.';\n",
              "        element.innerHTML = '';\n",
              "        dataTable['output_type'] = 'display_data';\n",
              "        await google.colab.output.renderOutput(dataTable, element);\n",
              "        const docLink = document.createElement('div');\n",
              "        docLink.innerHTML = docLinkHtml;\n",
              "        element.appendChild(docLink);\n",
              "      }\n",
              "    </script>\n",
              "  </div>\n",
              "\n",
              "\n",
              "<div id=\"df-910da220-740e-4a42-9afd-24df818d9648\">\n",
              "  <button class=\"colab-df-quickchart\" onclick=\"quickchart('df-910da220-740e-4a42-9afd-24df818d9648')\"\n",
              "            title=\"Suggest charts.\"\n",
              "            style=\"display:none;\">\n",
              "\n",
              "<svg xmlns=\"http://www.w3.org/2000/svg\" height=\"24px\"viewBox=\"0 0 24 24\"\n",
              "     width=\"24px\">\n",
              "    <g>\n",
              "        <path d=\"M19 3H5c-1.1 0-2 .9-2 2v14c0 1.1.9 2 2 2h14c1.1 0 2-.9 2-2V5c0-1.1-.9-2-2-2zM9 17H7v-7h2v7zm4 0h-2V7h2v10zm4 0h-2v-4h2v4z\"/>\n",
              "    </g>\n",
              "</svg>\n",
              "  </button>\n",
              "\n",
              "<style>\n",
              "  .colab-df-quickchart {\n",
              "      --bg-color: #E8F0FE;\n",
              "      --fill-color: #1967D2;\n",
              "      --hover-bg-color: #E2EBFA;\n",
              "      --hover-fill-color: #174EA6;\n",
              "      --disabled-fill-color: #AAA;\n",
              "      --disabled-bg-color: #DDD;\n",
              "  }\n",
              "\n",
              "  [theme=dark] .colab-df-quickchart {\n",
              "      --bg-color: #3B4455;\n",
              "      --fill-color: #D2E3FC;\n",
              "      --hover-bg-color: #434B5C;\n",
              "      --hover-fill-color: #FFFFFF;\n",
              "      --disabled-bg-color: #3B4455;\n",
              "      --disabled-fill-color: #666;\n",
              "  }\n",
              "\n",
              "  .colab-df-quickchart {\n",
              "    background-color: var(--bg-color);\n",
              "    border: none;\n",
              "    border-radius: 50%;\n",
              "    cursor: pointer;\n",
              "    display: none;\n",
              "    fill: var(--fill-color);\n",
              "    height: 32px;\n",
              "    padding: 0;\n",
              "    width: 32px;\n",
              "  }\n",
              "\n",
              "  .colab-df-quickchart:hover {\n",
              "    background-color: var(--hover-bg-color);\n",
              "    box-shadow: 0 1px 2px rgba(60, 64, 67, 0.3), 0 1px 3px 1px rgba(60, 64, 67, 0.15);\n",
              "    fill: var(--button-hover-fill-color);\n",
              "  }\n",
              "\n",
              "  .colab-df-quickchart-complete:disabled,\n",
              "  .colab-df-quickchart-complete:disabled:hover {\n",
              "    background-color: var(--disabled-bg-color);\n",
              "    fill: var(--disabled-fill-color);\n",
              "    box-shadow: none;\n",
              "  }\n",
              "\n",
              "  .colab-df-spinner {\n",
              "    border: 2px solid var(--fill-color);\n",
              "    border-color: transparent;\n",
              "    border-bottom-color: var(--fill-color);\n",
              "    animation:\n",
              "      spin 1s steps(1) infinite;\n",
              "  }\n",
              "\n",
              "  @keyframes spin {\n",
              "    0% {\n",
              "      border-color: transparent;\n",
              "      border-bottom-color: var(--fill-color);\n",
              "      border-left-color: var(--fill-color);\n",
              "    }\n",
              "    20% {\n",
              "      border-color: transparent;\n",
              "      border-left-color: var(--fill-color);\n",
              "      border-top-color: var(--fill-color);\n",
              "    }\n",
              "    30% {\n",
              "      border-color: transparent;\n",
              "      border-left-color: var(--fill-color);\n",
              "      border-top-color: var(--fill-color);\n",
              "      border-right-color: var(--fill-color);\n",
              "    }\n",
              "    40% {\n",
              "      border-color: transparent;\n",
              "      border-right-color: var(--fill-color);\n",
              "      border-top-color: var(--fill-color);\n",
              "    }\n",
              "    60% {\n",
              "      border-color: transparent;\n",
              "      border-right-color: var(--fill-color);\n",
              "    }\n",
              "    80% {\n",
              "      border-color: transparent;\n",
              "      border-right-color: var(--fill-color);\n",
              "      border-bottom-color: var(--fill-color);\n",
              "    }\n",
              "    90% {\n",
              "      border-color: transparent;\n",
              "      border-bottom-color: var(--fill-color);\n",
              "    }\n",
              "  }\n",
              "</style>\n",
              "\n",
              "  <script>\n",
              "    async function quickchart(key) {\n",
              "      const quickchartButtonEl =\n",
              "        document.querySelector('#' + key + ' button');\n",
              "      quickchartButtonEl.disabled = true;  // To prevent multiple clicks.\n",
              "      quickchartButtonEl.classList.add('colab-df-spinner');\n",
              "      try {\n",
              "        const charts = await google.colab.kernel.invokeFunction(\n",
              "            'suggestCharts', [key], {});\n",
              "      } catch (error) {\n",
              "        console.error('Error during call to suggestCharts:', error);\n",
              "      }\n",
              "      quickchartButtonEl.classList.remove('colab-df-spinner');\n",
              "      quickchartButtonEl.classList.add('colab-df-quickchart-complete');\n",
              "    }\n",
              "    (() => {\n",
              "      let quickchartButtonEl =\n",
              "        document.querySelector('#df-910da220-740e-4a42-9afd-24df818d9648 button');\n",
              "      quickchartButtonEl.style.display =\n",
              "        google.colab.kernel.accessAllowed ? 'block' : 'none';\n",
              "    })();\n",
              "  </script>\n",
              "</div>\n",
              "    </div>\n",
              "  </div>\n"
            ]
          },
          "metadata": {},
          "execution_count": 16
        }
      ]
    },
    {
      "cell_type": "code",
      "source": [
        "yhat = np.zeros_like(predictions)\n",
        "for i in range(len(predictions)):\n",
        "    if predictions[i] >= 0.5:\n",
        "        yhat[i] = 1\n",
        "    else:\n",
        "        yhat[i] = 0\n",
        "print(f\"decisions = \\n{yhat}\")"
      ],
      "metadata": {
        "colab": {
          "base_uri": "https://localhost:8080/"
        },
        "id": "5paaDwUzwHZ6",
        "outputId": "f5bcc395-e514-4aa2-8455-c0f8b735922d"
      },
      "execution_count": 17,
      "outputs": [
        {
          "output_type": "stream",
          "name": "stdout",
          "text": [
            "decisions = \n",
            "[[0.]\n",
            " [0.]\n",
            " [1.]\n",
            " [0.]\n",
            " [1.]\n",
            " [0.]\n",
            " [1.]\n",
            " [0.]\n",
            " [0.]\n",
            " [1.]\n",
            " [1.]\n",
            " [0.]\n",
            " [1.]\n",
            " [1.]\n",
            " [0.]\n",
            " [1.]\n",
            " [0.]\n",
            " [1.]\n",
            " [0.]\n",
            " [1.]\n",
            " [1.]\n",
            " [1.]\n",
            " [1.]\n",
            " [0.]\n",
            " [0.]\n",
            " [1.]\n",
            " [0.]\n",
            " [0.]\n",
            " [1.]\n",
            " [0.]\n",
            " [0.]\n",
            " [1.]\n",
            " [0.]\n",
            " [1.]\n",
            " [0.]\n",
            " [0.]\n",
            " [0.]\n",
            " [0.]\n",
            " [1.]\n",
            " [0.]\n",
            " [1.]\n",
            " [0.]\n",
            " [0.]\n",
            " [1.]\n",
            " [0.]\n",
            " [1.]\n",
            " [0.]\n",
            " [0.]\n",
            " [0.]\n",
            " [1.]\n",
            " [1.]\n",
            " [0.]\n",
            " [1.]\n",
            " [1.]\n",
            " [1.]\n",
            " [0.]\n",
            " [0.]\n",
            " [1.]\n",
            " [1.]\n",
            " [0.]\n",
            " [0.]\n",
            " [1.]\n",
            " [0.]\n",
            " [1.]\n",
            " [0.]\n",
            " [1.]\n",
            " [1.]\n",
            " [1.]\n",
            " [1.]\n",
            " [1.]\n",
            " [0.]\n",
            " [0.]\n",
            " [1.]\n",
            " [0.]\n",
            " [0.]\n",
            " [0.]\n",
            " [0.]\n",
            " [1.]\n",
            " [0.]\n",
            " [0.]\n",
            " [1.]]\n"
          ]
        }
      ]
    },
    {
      "cell_type": "code",
      "source": [
        "y_test"
      ],
      "metadata": {
        "id": "lN0blbA4XgNe",
        "colab": {
          "base_uri": "https://localhost:8080/"
        },
        "outputId": "5a3f4fa7-c5c7-46f7-8f37-a720fb8c9a99"
      },
      "execution_count": 18,
      "outputs": [
        {
          "output_type": "execute_result",
          "data": {
            "text/plain": [
              "239    1.0\n",
              "32     1.0\n",
              "212    1.0\n",
              "13     0.0\n",
              "253    1.0\n",
              "      ... \n",
              "262    0.0\n",
              "104    1.0\n",
              "181    0.0\n",
              "25     0.0\n",
              "150    0.0\n",
              "Name: Heart Disease, Length: 81, dtype: float64"
            ]
          },
          "metadata": {},
          "execution_count": 18
        }
      ]
    },
    {
      "cell_type": "code",
      "source": [
        " probability_model = tf.keras.Sequential([\n",
        "   model,\n",
        "   tf.keras.layers.Softmax()\n",
        " ])"
      ],
      "metadata": {
        "id": "D5R0RXKNxxtw"
      },
      "execution_count": 19,
      "outputs": []
    },
    {
      "cell_type": "code",
      "source": [
        " probability_model(Xn_test)\n"
      ],
      "metadata": {
        "id": "Koe9tLqjv-Nl",
        "colab": {
          "base_uri": "https://localhost:8080/"
        },
        "outputId": "f927d2d8-fdcd-4517-9ab0-303630c622a6"
      },
      "execution_count": 20,
      "outputs": [
        {
          "output_type": "execute_result",
          "data": {
            "text/plain": [
              "<tf.Tensor: shape=(81, 1), dtype=float32, numpy=\n",
              "array([[0.99999994],\n",
              "       [0.99999994],\n",
              "       [0.99999994],\n",
              "       [0.99999994],\n",
              "       [0.99999994],\n",
              "       [0.99999994],\n",
              "       [0.99999994],\n",
              "       [0.99999994],\n",
              "       [0.99999994],\n",
              "       [0.99999994],\n",
              "       [0.99999994],\n",
              "       [0.99999994],\n",
              "       [0.99999994],\n",
              "       [0.99999994],\n",
              "       [0.99999994],\n",
              "       [0.99999994],\n",
              "       [0.99999994],\n",
              "       [0.99999994],\n",
              "       [0.99999994],\n",
              "       [0.99999994],\n",
              "       [0.99999994],\n",
              "       [0.99999994],\n",
              "       [0.99999994],\n",
              "       [0.99999994],\n",
              "       [0.99999994],\n",
              "       [0.99999994],\n",
              "       [0.99999994],\n",
              "       [0.99999994],\n",
              "       [0.99999994],\n",
              "       [0.99999994],\n",
              "       [0.99999994],\n",
              "       [0.99999994],\n",
              "       [0.99999994],\n",
              "       [0.99999994],\n",
              "       [0.99999994],\n",
              "       [0.99999994],\n",
              "       [0.99999994],\n",
              "       [0.99999994],\n",
              "       [0.99999994],\n",
              "       [0.99999994],\n",
              "       [0.99999994],\n",
              "       [0.99999994],\n",
              "       [0.99999994],\n",
              "       [0.99999994],\n",
              "       [0.99999994],\n",
              "       [0.99999994],\n",
              "       [0.99999994],\n",
              "       [0.99999994],\n",
              "       [0.99999994],\n",
              "       [0.99999994],\n",
              "       [0.99999994],\n",
              "       [0.99999994],\n",
              "       [0.99999994],\n",
              "       [0.99999994],\n",
              "       [0.99999994],\n",
              "       [0.99999994],\n",
              "       [0.99999994],\n",
              "       [0.99999994],\n",
              "       [0.99999994],\n",
              "       [0.99999994],\n",
              "       [0.99999994],\n",
              "       [0.99999994],\n",
              "       [0.99999994],\n",
              "       [0.99999994],\n",
              "       [0.99999994],\n",
              "       [0.99999994],\n",
              "       [0.99999994],\n",
              "       [0.99999994],\n",
              "       [0.99999994],\n",
              "       [0.99999994],\n",
              "       [0.99999994],\n",
              "       [0.99999994],\n",
              "       [0.99999994],\n",
              "       [0.99999994],\n",
              "       [0.99999994],\n",
              "       [0.99999994],\n",
              "       [0.99999994],\n",
              "       [0.99999994],\n",
              "       [0.99999994],\n",
              "       [0.99999994],\n",
              "       [1.        ]], dtype=float32)>"
            ]
          },
          "metadata": {},
          "execution_count": 20
        }
      ]
    },
    {
      "cell_type": "code",
      "source": [
        "model.evaluate(Xn_test,y_test,verbose=2)"
      ],
      "metadata": {
        "colab": {
          "base_uri": "https://localhost:8080/"
        },
        "id": "a_j4LIoAxrt9",
        "outputId": "dda3da8a-6fd1-44f7-dc96-48ab46712cd2"
      },
      "execution_count": 21,
      "outputs": [
        {
          "output_type": "stream",
          "name": "stdout",
          "text": [
            "3/3 - 0s - loss: 7.4950 - accuracy: 0.7531 - 111ms/epoch - 37ms/step\n"
          ]
        },
        {
          "output_type": "execute_result",
          "data": {
            "text/plain": [
              "[7.495018482208252, 0.7530864477157593]"
            ]
          },
          "metadata": {},
          "execution_count": 21
        }
      ]
    },
    {
      "cell_type": "code",
      "source": [],
      "metadata": {
        "id": "6u6E1B5KVyhH"
      },
      "execution_count": 21,
      "outputs": []
    },
    {
      "cell_type": "code",
      "source": [
        "model.evaluate(X_test,y_test,verbose=2)"
      ],
      "metadata": {
        "id": "N14P-Flt1MRZ",
        "colab": {
          "base_uri": "https://localhost:8080/"
        },
        "outputId": "6430f986-e633-43e9-f701-98602c38d183"
      },
      "execution_count": 22,
      "outputs": [
        {
          "output_type": "stream",
          "name": "stdout",
          "text": [
            "3/3 - 0s - loss: 0.8391 - accuracy: 0.4198 - 86ms/epoch - 29ms/step\n"
          ]
        },
        {
          "output_type": "execute_result",
          "data": {
            "text/plain": [
              "[0.8391483426094055, 0.4197530746459961]"
            ]
          },
          "metadata": {},
          "execution_count": 22
        }
      ]
    },
    {
      "cell_type": "code",
      "source": [],
      "metadata": {
        "id": "NPfV8OGRV1K8"
      },
      "execution_count": 22,
      "outputs": []
    },
    {
      "cell_type": "markdown",
      "source": [
        "layer 9 8 4 1 accu cao, phai xai all sigmoid\n",
        "xai softmax bi overfitting\n",
        "9 4 1 cung bị ovèitting\n",
        "\n",
        "xai sigmoid truong hop nào cũng bị underfitting\n",
        "\n",
        "9 4 1 all sigmoid [2.762671947479248, 0.7407407164573669]\n",
        "de khong bi overfitting xai relu\n",
        "8 4 1 relu relu sigmoid\n",
        "\n",
        "```\n",
        "# This is formatted as code\n",
        "```\n",
        "\n"
      ],
      "metadata": {
        "id": "gBHolhYeV-Rp"
      }
    },
    {
      "cell_type": "code",
      "source": [],
      "metadata": {
        "id": "557sIIh6W7jA"
      },
      "execution_count": 22,
      "outputs": []
    }
  ],
  "metadata": {
    "kernelspec": {
      "display_name": "myenv2",
      "language": "python",
      "name": "python3"
    },
    "language_info": {
      "codemirror_mode": {
        "name": "ipython",
        "version": 3
      },
      "file_extension": ".py",
      "mimetype": "text/x-python",
      "name": "python",
      "nbconvert_exporter": "python",
      "pygments_lexer": "ipython3",
      "version": "3.9.17"
    },
    "colab": {
      "provenance": []
    }
  },
  "nbformat": 4,
  "nbformat_minor": 0
}